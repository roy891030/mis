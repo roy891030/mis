{
 "cells": [
  {
   "cell_type": "code",
   "execution_count": null,
   "metadata": {},
   "outputs": [
    {
     "name": "stdin",
     "output_type": "stream",
     "text": [
      "Please input your operation: add n1 2\n"
     ]
    },
    {
     "name": "stdout",
     "output_type": "stream",
     "text": [
      "0 + 2= 2\n"
     ]
    },
    {
     "name": "stdin",
     "output_type": "stream",
     "text": [
      "Please input your operation: n1 roo\n",
      "Please input your operation: roo n1\n"
     ]
    },
    {
     "name": "stdout",
     "output_type": "stream",
     "text": [
      "√￣2 = 1.4142135623730951\n"
     ]
    },
    {
     "name": "stdin",
     "output_type": "stream",
     "text": [
      "Please input your operation: bin n1\n"
     ]
    },
    {
     "name": "stdout",
     "output_type": "stream",
     "text": [
      "bin(2) = 0b10\n"
     ]
    }
   ],
   "source": [
    "# 除了助教給的幾種功能以外，我也另外加了min減法  div除法  roo開根號  bin轉成二進位制\n",
    "# 在operation階段打上min div roo即可使用\n",
    "# 使用roo 時只要輸入欲開根號的變數與roo即可，ex想對n1開根號之輸入方式：roo n1 \n",
    "# 使用bin時只須輸入欲做二進位制的變數與bin即可，ex想對n1做二進位轉換之輸入方式：bin n1 \n",
    "\n",
    "data = {\n",
    "    'n1': 0,\n",
    "    'n2': 10\n",
    "}\n",
    "\n",
    "\n",
    "while True:\n",
    "    inputs = input('Please input your operation:')\n",
    "    inputs = inputs.split(' ')\n",
    "\n",
    "    if len(inputs) == 1:\n",
    "        op = inputs[0]\n",
    "    elif len(inputs) == 2:\n",
    "        op = inputs[0]\n",
    "        ter = inputs[1]\n",
    "\n",
    "    elif len(inputs) == 3:  # add, mul\n",
    "        op = inputs[0]\n",
    "        ter = inputs[1]\n",
    "        much = int(inputs[2])\n",
    "\n",
    "\n",
    "# 以下為op的操作\n",
    "    if op == 'printall':\n",
    "        print(data)\n",
    "    elif op == 'delall':\n",
    "        data.clear()\n",
    "    elif op == 'del':\n",
    "        del data[ter]\n",
    "    elif op == 'new':\n",
    "        data[ter] = 0\n",
    "    elif op == 'add':\n",
    "        print(f\"{data[ter]} + {much}= {data[ter] + much}\")\n",
    "        data[ter] += much\n",
    "    elif op == 'mul':\n",
    "        print(f\"{data[ter]} * {much}= {data[ter] * much}\")\n",
    "        data[ter] *= much\n",
    "    elif op == 'min':\n",
    "        print(f\"{data[ter]} - {much}= {data[ter] - much}\")\n",
    "        data[ter] -= much\n",
    "    elif op == 'div':\n",
    "        print(f\"{data[ter]} / {much}= {data[ter] / much}\")\n",
    "        data[ter] /= much\n",
    "    elif op == 'roo':\n",
    "        print(f\"√￣{data[ter]} = {data[ter] ** (1/2)}\")\n",
    "        data[ter] ** (1/2)\n",
    "    elif op == 'bin':\n",
    "        print(f\"bin({data[ter]}) = {bin(data[ter])}\")\n",
    "        data[ter] = bin(data[ter])\n",
    "    elif op == 'end':\n",
    "        break\n"
   ]
  },
  {
   "cell_type": "code",
   "execution_count": null,
   "metadata": {},
   "outputs": [],
   "source": []
  }
 ],
 "metadata": {
  "kernelspec": {
   "display_name": "Python 3",
   "language": "python",
   "name": "python3"
  },
  "language_info": {
   "codemirror_mode": {
    "name": "ipython",
    "version": 3
   },
   "file_extension": ".py",
   "mimetype": "text/x-python",
   "name": "python",
   "nbconvert_exporter": "python",
   "pygments_lexer": "ipython3",
   "version": "3.6.8"
  }
 },
 "nbformat": 4,
 "nbformat_minor": 4
}
