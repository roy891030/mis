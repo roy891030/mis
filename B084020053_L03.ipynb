{
 "cells": [
  {
   "cell_type": "code",
   "execution_count": 8,
   "metadata": {},
   "outputs": [
    {
     "name": "stdin",
     "output_type": "stream",
     "text": [
      "Please input n: 5\n"
     ]
    },
    {
     "name": "stdout",
     "output_type": "stream",
     "text": [
      "  1   2   3   4   5 \n",
      "\n",
      "  2   4   6   8  10 \n",
      "\n",
      "  3   6   9  12  15 \n",
      "\n",
      "  4   8  12  16  20 \n",
      "\n",
      "  5  10  15  20  25 \n",
      "\n"
     ]
    }
   ],
   "source": [
    "n = int(input(\"Please input n:\"))\n",
    "for i in range(1, n+1, 1):\n",
    "    for j in range(1, n+1, 1):\n",
    "        print(\"%3d\" % (i*j), sep=\" \", end=\" \")\n",
    "    print(\"\\n\")"
   ]
  },
  {
   "cell_type": "code",
   "execution_count": null,
   "metadata": {},
   "outputs": [],
   "source": []
  }
 ],
 "metadata": {
  "kernelspec": {
   "display_name": "Python 3",
   "language": "python",
   "name": "python3"
  },
  "language_info": {
   "codemirror_mode": {
    "name": "ipython",
    "version": 3
   },
   "file_extension": ".py",
   "mimetype": "text/x-python",
   "name": "python",
   "nbconvert_exporter": "python",
   "pygments_lexer": "ipython3",
   "version": "3.6.8"
  }
 },
 "nbformat": 4,
 "nbformat_minor": 4
}
