{
 "cells": [
  {
   "cell_type": "markdown",
   "metadata": {},
   "source": [
    "# MIS132 程式設計實習 - Lecture07"
   ]
  },
  {
   "cell_type": "markdown",
   "metadata": {},
   "source": [
    "## Outline this week\n",
    "\n",
    "- Class\n",
    "  - 基本\n",
    "  - Magic Method\n",
    "- Lab 練習"
   ]
  },
  {
   "cell_type": "markdown",
   "metadata": {},
   "source": [
    "## 介紹\n",
    "### What is Class?\n",
    "\n",
    "我們之前介紹過 Function 和 Module\n",
    "Function 由很多行 code 組成，\n",
    "Module 則是一個比較廣義的詞，他是很多 Function、Variable、Class......的集合體\n",
    "\n",
    "Class 是今天的主角，名稱叫做物件\n",
    "他是介於這兩者之間的一種資料結構，和 C 的 struct 很像\n",
    "他底下可以包含很多變數、很多 member function\n",
    "\n",
    "讓我們看一個範例"
   ]
  },
  {
   "cell_type": "code",
   "execution_count": 21,
   "metadata": {},
   "outputs": [
    {
     "name": "stdout",
     "output_type": "stream",
     "text": [
      "<__main__.Apple object at 0x7f7f01b11780>\n"
     ]
    }
   ],
   "source": [
    "# 最小 Class\n",
    "class Apple:\n",
    "    color = 'red'\n",
    "\n",
    "a = Apple()\n",
    "print(a)"
   ]
  },
  {
   "cell_type": "code",
   "execution_count": 24,
   "metadata": {},
   "outputs": [
    {
     "name": "stdout",
     "output_type": "stream",
     "text": [
      "Dog(name=Lucky, weight=25.0)\n",
      "---------- After dieting ----------\n",
      "Dog(name=Lucky, weight=23.0)\n"
     ]
    }
   ],
   "source": [
    "class Dog:\n",
    "    category = 'dog'\n",
    "    weight = 25.0\n",
    "\n",
    "    def __init__(self, name): # 名稱不能換，初始化\n",
    "        self.name = name # assign 到 class 本身\n",
    "    \n",
    "    def diet(self): # self 必備，是 class 本身\n",
    "        self.weight -= 2\n",
    "        print('-' * 10, 'After dieting', '-' * 10)\n",
    "        self.display()\n",
    "        \n",
    "    def display(self):\n",
    "        print('Dog(name={}, weight={})'.format(\n",
    "            self.name, self.weight\n",
    "        ))\n",
    "\n",
    "# main function\n",
    "d = Dog('Lucky')\n",
    "d.display()\n",
    "d.diet()"
   ]
  },
  {
   "cell_type": "markdown",
   "metadata": {},
   "source": [
    "我們可以看到 Dog 底下有 `category, weight` 這兩個一開始就有的 variables  \n",
    "後來我們新增了一個 `name` 進去  \n",
    "底下還有 `__init__, diet, display` 這三個 Function\n",
    "\n",
    "有三個使用上的細節\n",
    "\n",
    "1. `__init__` Function  \n",
    "    `__init__` Function 是使用這個物件建立變數時，Python 會自動呼叫的 Function\n",
    "2. `self` argement  \n",
    "    每個 member function 默認第一個參數都叫做 `self ` \n",
    "    但是使用時不必傳入，Python 會自動幫你傳入\n",
    "3. 呼叫 member function  \n",
    "    如果在 Class 外呼叫 Function，是使用 `VAR_NAME.MEM_FUNC(arguments)` 來呼叫  \n",
    "    在 Class 內互相呼叫時，則使用 `self.MEM_FUNC(arguments)` 呼叫"
   ]
  },
  {
   "cell_type": "markdown",
   "metadata": {},
   "source": [
    "### Why Class?\n",
    "\n",
    "如果你有很多 Function，他們有不同的變數要傳送，你的 Function argments 可能會越來越長\n",
    "\n",
    "Class 就是封裝了 Function 和 Variable 在一起的一個東東，他通常會表達一個比較高級的抽象概念，例如：**「老師、同學」**這個身份、**自訂的變數型態**\n",
    "\n",
    "---\n",
    "\n",
    "用 Class 把整個程式切割開來的設計理念叫做 物件導向程式設計（Object-Oriented Programming, 簡稱 OOP），是現代程式最主要的設計理念，在現代的語言和框架中，幾乎都有以 OOP 設計的邏輯\n",
    "\n",
    "OOP 有啥優點？\n",
    "\n",
    "1. 切成物件，Debug 較容易\n",
    "2. 可以使用繼承，重新利用 code\n",
    "3. 用多型來增加彈性\n",
    "4. 可以快速解決問題，相較\n",
    "\n",
    "詳細 OOP 的優缺點、比較，不是我們這堂課的重點\n",
    "資管系的課程較少這部分的練習，有興趣一定要花點時間去研究\n",
    "\n",
    "參考：\n",
    "https://www.roberthalf.com/blog/salaries-and-skills/4-advantages-of-object-oriented-programming"
   ]
  },
  {
   "cell_type": "markdown",
   "metadata": {},
   "source": [
    "## Step by Step learning class\n",
    "### Create a Class\n",
    "要建立一個 Class，使用 `class` 保留字，`class` 的變數命名第一個字通常是大寫、使用 CamelCase\n",
    "\n",
    "可以在底下放入 variable 或 function\n",
    "\n",
    "```python\n",
    "class Apple:\n",
    "    color = 'red'\n",
    "    \n",
    "    def display(self):\n",
    "        print('color = {}'.format(self.color))\n",
    "```\n",
    "\n",
    "### Build a Class\n",
    "\n",
    "使用 `VAR_NAME = CLASS_NAME()` 可以建立一個 class\n",
    "\n",
    "接著可以使用 `VAR_NAME.FUNC_NAME` 或 `VAR_NAME.VARIABLE_NAME` 使用 `.` 去呼叫 class 底下的成員，**變數和函式都可以**"
   ]
  },
  {
   "cell_type": "code",
   "execution_count": 28,
   "metadata": {},
   "outputs": [],
   "source": [
    "class Apple:\n",
    "    weight = 100\n",
    "    color = 'red'\n",
    "    \n",
    "    def display(self):\n",
    "        print('color = {}, weight = {}'.format(\n",
    "            self.color, self.weight\n",
    "        ))"
   ]
  },
  {
   "cell_type": "code",
   "execution_count": 30,
   "metadata": {},
   "outputs": [
    {
     "name": "stdout",
     "output_type": "stream",
     "text": [
      "red\n",
      "100\n",
      "color = red, weight = 100\n"
     ]
    }
   ],
   "source": [
    "a = Apple()\n",
    "\n",
    "print(a.color)\n",
    "print(a.weight)\n",
    "a.display()"
   ]
  },
  {
   "cell_type": "markdown",
   "metadata": {},
   "source": [
    "我們來看看複雜一點的範例"
   ]
  },
  {
   "cell_type": "code",
   "execution_count": 78,
   "metadata": {},
   "outputs": [
    {
     "name": "stdout",
     "output_type": "stream",
     "text": [
      "[]\n",
      "0\n",
      "['西遊記', '夢的解析', '戰爭與和平']\n",
      "3\n"
     ]
    }
   ],
   "source": [
    "class BookShelf:\n",
    "    num_books = 0\n",
    "\n",
    "    def __init__(self):\n",
    "        self.books = [] # 這也可以, 不過 list 一定要放這裡\n",
    "    \n",
    "    def add_book(self, book_name):\n",
    "        self.books.append(book_name)\n",
    "        self.num_books += 1\n",
    "\n",
    "bs = BookShelf()\n",
    "print(bs.books)\n",
    "print(bs.num_books)\n",
    "bs.add_book('西遊記')\n",
    "bs.add_book('夢的解析')\n",
    "bs.add_book('戰爭與和平')\n",
    "print(bs.books)\n",
    "print(bs.num_books)"
   ]
  },
  {
   "cell_type": "markdown",
   "metadata": {},
   "source": [
    "我們來增加兩個 Function，`find_a_book` 來找到書本放在哪個位置 和 `delete_book` 刪除一本書"
   ]
  },
  {
   "cell_type": "code",
   "execution_count": 79,
   "metadata": {},
   "outputs": [
    {
     "name": "stdout",
     "output_type": "stream",
     "text": [
      "---------- new ----------\n",
      "['西遊記', '夢的解析', '戰爭與和平']\n",
      "西遊記 is in the 0 position\n",
      "戰爭與和平 is in the 2 position\n",
      "['夢的解析', '戰爭與和平']\n",
      "戰爭與和平 is in the 1 position\n"
     ]
    }
   ],
   "source": [
    "class BookShelf:\n",
    "    num_books = 0\n",
    "\n",
    "    def __init__(self):\n",
    "        self.books = [] # 這也可以, 不過 list 一定要放這裡\n",
    "    \n",
    "    def add_book(self, book_name):\n",
    "        self.books.append(book_name)\n",
    "        self.num_books += 1\n",
    "\n",
    "    def delete_book(self, idx):\n",
    "        self.books.pop(idx)\n",
    "        self.num_books -= 1\n",
    "    \n",
    "    def find_a_book(self, name):\n",
    "        if name not in self.books:\n",
    "            print('This book is not exist')\n",
    "            return\n",
    "        idx = self.books.index(name)\n",
    "        print('{} is in the {} position'.format(name, idx))\n",
    "\n",
    "# same as previous block\n",
    "bs = BookShelf()\n",
    "# print(bs.books)\n",
    "# print(bs.num_books)\n",
    "bs.add_book('西遊記')\n",
    "bs.add_book('夢的解析')\n",
    "bs.add_book('戰爭與和平')\n",
    "# print(bs.books)\n",
    "# print(bs.num_books)\n",
    "\n",
    "# new\n",
    "print('-' * 10, 'new', '-' * 10)\n",
    "print(bs.books)\n",
    "bs.find_a_book('西遊記')\n",
    "bs.find_a_book('戰爭與和平')\n",
    "bs.delete_book(0) # delete 西遊記\n",
    "\n",
    "print(bs.books)\n",
    "bs.find_a_book('戰爭與和平')"
   ]
  },
  {
   "cell_type": "markdown",
   "metadata": {},
   "source": [
    "### Magic Method\n",
    "\n",
    "Python 中有些內建的 Magic Method 可以使用，他算是 class 的保留字，按照這些名稱去命名時，Python 會在一些情形下自動觸發，例如：建立新變數、print、加減法......  \n",
    "（和 C/C++ 的 constructor、operator overload 的功能類似）\n",
    "\n",
    "啊這些方法通常都是以 `__MAGIC__` 這樣，以 `__` 開頭和結尾的名稱開始\n",
    "\n",
    "讓我們修改兩個需求\n",
    "\n",
    "1. 讓 print 自動顯示數量和書本內容\n",
    "2. 讓兩個書架可以相加"
   ]
  },
  {
   "cell_type": "markdown",
   "metadata": {},
   "source": [
    "#### 1. 讓 print 自動顯示數量和書本內容\n",
    "**問題：直接 print 物件不會顯示物件內的 Variable，只會顯示預設的內容**\n",
    "\n",
    "我們可以覆蓋 `__repr__` 這個 magic function，來決定「使用 print 觸發這個物件時，要顯示什麼內容」"
   ]
  },
  {
   "cell_type": "code",
   "execution_count": 80,
   "metadata": {},
   "outputs": [
    {
     "name": "stdout",
     "output_type": "stream",
     "text": [
      "<__main__.BookShelf object at 0x7f7f0173a748>\n"
     ]
    }
   ],
   "source": [
    "bs = BookShelf()\n",
    "print(bs)"
   ]
  },
  {
   "cell_type": "markdown",
   "metadata": {},
   "source": [
    "來寫 `__repr__` 吧\n",
    "\n",
    "```python\n",
    "class BookShelf:\n",
    "    ... 省略\n",
    "        \n",
    "    def __repr__(self):  # 覆蓋特定的 Magic Method，Python 會在特定時候觸發\n",
    "        output = 'Have {} books\\n{}'.format(self.num_books, str(self.books))\n",
    "        return output # repr 要使用 return 回傳「字串」\n",
    "```"
   ]
  },
  {
   "cell_type": "code",
   "execution_count": 83,
   "metadata": {},
   "outputs": [
    {
     "name": "stdout",
     "output_type": "stream",
     "text": [
      "Have 2 books\n",
      "['西遊記', '夢的解析']\n"
     ]
    }
   ],
   "source": [
    "class BookShelf:\n",
    "    num_books = 0\n",
    "\n",
    "    def __init__(self):\n",
    "        self.books = [] # 這也可以, 不過 list 一定要放這裡\n",
    "    \n",
    "    def add_book(self, book_name):\n",
    "        self.books.append(book_name)\n",
    "        self.num_books += 1\n",
    "\n",
    "    def delete_book(self, idx):\n",
    "        self.books.pop(idx)\n",
    "        self.num_books -= 1\n",
    "    \n",
    "    def find_a_book(self, name):\n",
    "        if name not in self.books:\n",
    "            print('This book is not exist')\n",
    "            return\n",
    "        idx = self.books.index(name)\n",
    "        print('{} is in the {} position'.format(name, idx))\n",
    "        \n",
    "    def __repr__(self):\n",
    "        output = 'Have {} books\\n{}'.format(self.num_books, str(self.books))\n",
    "        return output\n",
    "\n",
    "bs = BookShelf()\n",
    "bs.add_book('西遊記')\n",
    "bs.add_book('夢的解析')\n",
    "print(bs) # 簡化了!"
   ]
  },
  {
   "cell_type": "markdown",
   "metadata": {},
   "source": [
    "#### 2. 讓兩個書架可以相加\n",
    "**問題：如果我們有兩個 書架，想要把他們合在一起**\n",
    "\n",
    "他會出錯\n",
    "\n",
    "顯示 <font color='red'>TypeError: unsupported operand type(s) for +: 'BookShelf' and 'BookShelf'</font>"
   ]
  },
  {
   "cell_type": "code",
   "execution_count": 84,
   "metadata": {},
   "outputs": [
    {
     "ename": "TypeError",
     "evalue": "unsupported operand type(s) for +: 'BookShelf' and 'BookShelf'",
     "output_type": "error",
     "traceback": [
      "\u001b[0;31m---------------------------------------------------------------------------\u001b[0m",
      "\u001b[0;31mTypeError\u001b[0m                                 Traceback (most recent call last)",
      "\u001b[0;32m<ipython-input-84-de8a06556f1f>\u001b[0m in \u001b[0;36m<module>\u001b[0;34m\u001b[0m\n\u001b[1;32m      6\u001b[0m \u001b[0mbs\u001b[0m\u001b[0;34m.\u001b[0m\u001b[0madd_book\u001b[0m\u001b[0;34m(\u001b[0m\u001b[0;34m'戰爭與和平'\u001b[0m\u001b[0;34m)\u001b[0m\u001b[0;34m\u001b[0m\u001b[0;34m\u001b[0m\u001b[0m\n\u001b[1;32m      7\u001b[0m \u001b[0;34m\u001b[0m\u001b[0m\n\u001b[0;32m----> 8\u001b[0;31m \u001b[0mbs\u001b[0m \u001b[0;34m=\u001b[0m \u001b[0mbs1\u001b[0m \u001b[0;34m+\u001b[0m \u001b[0mbs2\u001b[0m\u001b[0;34m\u001b[0m\u001b[0;34m\u001b[0m\u001b[0m\n\u001b[0m\u001b[1;32m      9\u001b[0m \u001b[0mprint\u001b[0m\u001b[0;34m(\u001b[0m\u001b[0mbs\u001b[0m\u001b[0;34m)\u001b[0m\u001b[0;34m\u001b[0m\u001b[0;34m\u001b[0m\u001b[0m\n",
      "\u001b[0;31mTypeError\u001b[0m: unsupported operand type(s) for +: 'BookShelf' and 'BookShelf'"
     ]
    }
   ],
   "source": [
    "bs1 = BookShelf()\n",
    "bs1.add_book('西遊記')\n",
    "bs1.add_book('夢的解析')\n",
    "\n",
    "bs2 = BookShelf()\n",
    "bs.add_book('戰爭與和平')\n",
    "\n",
    "bs = bs1 + bs2\n",
    "print(bs)"
   ]
  },
  {
   "cell_type": "markdown",
   "metadata": {},
   "source": [
    "我們要宣告 `__add__` 這個 magic function，來兩個 BookShelf 加在一起的動作\n",
    "\n",
    "```python\n",
    "class BookShelf:\n",
    "    ... # 省略\n",
    "        \n",
    "    def __add__(self, other):  # 覆蓋特定的 Magic Method，Python 會在特定時候觸發\n",
    "        self.num_books += other.num_books\n",
    "        self.books += other.books\n",
    "```"
   ]
  },
  {
   "cell_type": "code",
   "execution_count": 85,
   "metadata": {},
   "outputs": [
    {
     "name": "stdout",
     "output_type": "stream",
     "text": [
      "bs1 Have 2 books\n",
      "['西遊記', '夢的解析']\n",
      "bs2 Have 1 books\n",
      "['戰爭與和平']\n",
      "--------------------\n",
      "combined Have 3 books\n",
      "['西遊記', '夢的解析', '戰爭與和平']\n"
     ]
    }
   ],
   "source": [
    "class BookShelf:\n",
    "    num_books = 0\n",
    "\n",
    "    def __init__(self):\n",
    "        self.books = [] # 這也可以, 不過 list 一定要放這裡\n",
    "    \n",
    "    def add_book(self, book_name):\n",
    "        self.books.append(book_name)\n",
    "        self.num_books += 1\n",
    "\n",
    "    def delete_book(self, idx):\n",
    "        self.books.pop(idx)\n",
    "        self.num_books -= 1\n",
    "    \n",
    "    def find_a_book(self, name):\n",
    "        if name not in self.books:\n",
    "            print('This book is not exist')\n",
    "            return\n",
    "        idx = self.books.index(name)\n",
    "        print('{} is in the {} position'.format(name, idx))\n",
    "\n",
    "    def __repr__(self):\n",
    "        output = 'Have {} books\\n{}'.format(self.num_books, str(self.books))\n",
    "        return output\n",
    "\n",
    "    def __add__(self, other):\n",
    "        self.num_books += other.num_books\n",
    "        self.books += other.books\n",
    "        return self\n",
    "\n",
    "bs1 = BookShelf()\n",
    "bs1.add_book('西遊記')\n",
    "bs1.add_book('夢的解析')\n",
    "print('bs1', bs1)\n",
    "\n",
    "bs2 = BookShelf()\n",
    "bs2.add_book('戰爭與和平')\n",
    "print('bs2', bs2)\n",
    "\n",
    "print('-' * 20)\n",
    "\n",
    "bs = bs1 + bs2\n",
    "print('combined', bs)"
   ]
  },
  {
   "cell_type": "markdown",
   "metadata": {},
   "source": [
    "### Lab練習\n",
    "\n",
    "請開啟一份新的 .ipynb 筆記檔案, 檔名為「L07.ipynb」，寫完上傳至網大.\n",
    "\n",
    "1. 寫一個抽象 Class\n",
    "\n",
    "請參考範例的 `Apple, Dog, BookShelf` 想一個現實中的例子，並寫成 class  \n",
    "並至少包含「兩個 class variable、兩個 class function、一個 magic method」\n",
    "\n",
    "例如：車子、食物、電腦......\n",
    "\n",
    "**註：如果 class 和變數、Function 名稱與功能一模一樣，會被視為抄襲，請勿作弊**"
   ]
  }
 ],
 "metadata": {
  "kernelspec": {
   "display_name": "Python 3",
   "language": "python",
   "name": "python3"
  },
  "language_info": {
   "codemirror_mode": {
    "name": "ipython",
    "version": 3
   },
   "file_extension": ".py",
   "mimetype": "text/x-python",
   "name": "python",
   "nbconvert_exporter": "python",
   "pygments_lexer": "ipython3",
   "version": "3.6.8"
  }
 },
 "nbformat": 4,
 "nbformat_minor": 4
}
