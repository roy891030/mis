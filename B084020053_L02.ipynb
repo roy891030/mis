{
 "metadata": {
  "language_info": {
   "codemirror_mode": {
    "name": "ipython",
    "version": 3
   },
   "file_extension": ".py",
   "mimetype": "text/x-python",
   "name": "python",
   "nbconvert_exporter": "python",
   "pygments_lexer": "ipython3",
   "version": "3.8.5-final"
  },
  "orig_nbformat": 2,
  "kernelspec": {
   "name": "python3",
   "display_name": "Python 3",
   "language": "python"
  }
 },
 "nbformat": 4,
 "nbformat_minor": 2,
 "cells": [
  {
   "cell_type": "code",
   "execution_count": 11,
   "metadata": {},
   "outputs": [
    {
     "output_type": "stream",
     "name": "stdout",
     "text": [
      "Your grade is A+\nCongratulations! you pass this class.\n"
     ]
    }
   ],
   "source": [
    "s=int(input(\"Please input your score:\"))\n",
    "if(s>100):\n",
    "    print(\"Your score out of range!\")\n",
    "elif(s<0):\n",
    "    print(\"Your score out of range!\")\n",
    "else:\n",
    "    if(s>=90 and s<=100):\n",
    "        g=\"A+\"\n",
    "\n",
    "    elif(s>=85 and s<=90):\n",
    "        g=\"A\"\n",
    "\n",
    "    elif(s>=80 and s<=84):\n",
    "        g=\"A-\"\n",
    "\n",
    "    elif(s>=77 and s<=79):\n",
    "        g=\"B+\"\n",
    "\n",
    "    elif(s>=73 and s<=76):\n",
    "        g=\"B\"\n",
    "\n",
    "    elif(s>=70 and s<=72):\n",
    "        g=\"B-\"\n",
    "\n",
    "    elif(s>=67 and s<=69):\n",
    "        g=\"C+\"\n",
    "\n",
    "    elif(s>=63 and s<=66):\n",
    "        g=\"C\"\n",
    "\n",
    "    elif(s>=60 and s<=62):\n",
    "        g=\"C-\"\n",
    "\n",
    "    elif(s>=50 and s<=59):\n",
    "        g=\"D\"\n",
    "\n",
    "    elif(s>=40 and s<=49):\n",
    "        g=\"E\"\n",
    "\n",
    "    elif(s<=39):\n",
    "        g=\"F\"\n",
    "    \n",
    "    if(s>=60):\n",
    "        print(\"Your grade is %s\\nCongratulations! you pass this class.\"%g)\n",
    "    if(s<60):\n",
    "        print(F\"Your grade is {g}\\nSorry, you fail this class.\")"
   ]
  },
  {
   "cell_type": "code",
   "execution_count": null,
   "metadata": {},
   "outputs": [],
   "source": []
  }
 ]
}