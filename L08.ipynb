{
 "metadata": {
  "language_info": {
   "codemirror_mode": {
    "name": "ipython",
    "version": 3
   },
   "file_extension": ".py",
   "mimetype": "text/x-python",
   "name": "python",
   "nbconvert_exporter": "python",
   "pygments_lexer": "ipython3",
   "version": "3.8.5"
  },
  "orig_nbformat": 2,
  "kernelspec": {
   "name": "python385jvsc74a57bd031f2aee4e71d21fbe5cf8b01ff0e069b9275f58929596ceb00d14d90e3e16cd6",
   "display_name": "Python 3.8.5 64-bit ('usr')"
  },
  "metadata": {
   "interpreter": {
    "hash": "31f2aee4e71d21fbe5cf8b01ff0e069b9275f58929596ceb00d14d90e3e16cd6"
   }
  }
 },
 "nbformat": 4,
 "nbformat_minor": 2,
 "cells": [
  {
   "cell_type": "code",
   "execution_count": 32,
   "metadata": {},
   "outputs": [
    {
     "output_type": "stream",
     "name": "stdout",
     "text": [
      "[33, 55, 77, 99]\n"
     ]
    }
   ],
   "source": [
    "#第一題\n",
    "l1=[i*11 for i in range(3,11,2)]\n",
    "print(l1)"
   ]
  },
  {
   "cell_type": "code",
   "execution_count": 33,
   "metadata": {},
   "outputs": [
    {
     "output_type": "stream",
     "name": "stdout",
     "text": [
      "[4, 7, 23]\n"
     ]
    }
   ],
   "source": [
    "#第二題\n",
    "arr=[1,4,7,11,15,19,23]\n",
    "l2=[k for k in arr if '1' not in str(k)]\n",
    "print(l2)"
   ]
  },
  {
   "cell_type": "code",
   "execution_count": 40,
   "metadata": {},
   "outputs": [
    {
     "output_type": "stream",
     "name": "stdout",
     "text": [
      "['2 is prime', '3 is prime', '5 is prime', '7 is prime', '11 is prime', '13 is prime', '17 is prime', '19 is prime', '23 is prime', '29 is prime', '31 is prime', '37 is prime', '41 is prime', '43 is prime', '47 is prime', '53 is prime', '59 is prime', '61 is prime', '67 is prime', '71 is prime', '73 is prime', '79 is prime', '83 is prime', '89 is prime', '97 is prime'] \nhas 25\n"
     ]
    }
   ],
   "source": [
    "#第三題\n",
    "def is_prime(n):\n",
    "    for i in range(2,n):\n",
    "        if n % i == 0:\n",
    "            return False\n",
    "    return True\n",
    "\n",
    "count=0 \n",
    "for i in [a for a in range(2,101) if is_prime(a)==True ] :\n",
    "    count+=1\n",
    "\n",
    "l3=[f'{j} is prime' for j in [a for a in range(2,101) if is_prime(a)==True ]]\n",
    "print(l3,f\"\\nhas {count}\")"
   ]
  },
  {
   "cell_type": "code",
   "execution_count": 39,
   "metadata": {},
   "outputs": [
    {
     "output_type": "stream",
     "name": "stdout",
     "text": [
      "{'TDOC': 139.68, 'V': 226.94, 'FB': 315.94, 'TSLA': 589.74, 'BRK-B': 290.68}\n"
     ]
    }
   ],
   "source": [
    "#dict comprehension\n",
    "keys=['TDOC','V','FB','TSLA','BRK-B']\n",
    "value=[139.68,226.94,315.94,589.74,290.68]\n",
    "dict={k:v for k,v in zip(keys,value)}\n",
    "print(dict)\n"
   ]
  },
  {
   "cell_type": "code",
   "execution_count": null,
   "metadata": {},
   "outputs": [],
   "source": []
  },
  {
   "cell_type": "code",
   "execution_count": null,
   "metadata": {},
   "outputs": [],
   "source": []
  }
 ]
}