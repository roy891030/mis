{
 "metadata": {
  "language_info": {
   "codemirror_mode": {
    "name": "ipython",
    "version": 3
   },
   "file_extension": ".py",
   "mimetype": "text/x-python",
   "name": "python",
   "nbconvert_exporter": "python",
   "pygments_lexer": "ipython3",
   "version": "3.8.5-final"
  },
  "orig_nbformat": 2,
  "kernelspec": {
   "name": "python3",
   "display_name": "Python 3.8.5 64-bit",
   "metadata": {
    "interpreter": {
     "hash": "5b3ded1ccb95c1d9bd405e7b823d9e85424cde40fbb5985eb47e999ef50e15b4"
    }
   }
  }
 },
 "nbformat": 4,
 "nbformat_minor": 2,
 "cells": [
  {
   "cell_type": "code",
   "execution_count": 76,
   "metadata": {},
   "outputs": [
    {
     "output_type": "stream",
     "name": "stdout",
     "text": [
      "your rank is #3 right now.\n    dragon\n      meng\n       ROy\n  Hsuan Ju\n   yihuang\n"
     ]
    }
   ],
   "source": [
    "names = ['dragon', 'meng', 'Hsuan Ju', 'yihuang']\n",
    "scores = [100, 90, 59, 10]\n",
    "\n",
    "name = input(\"plese input your name:\")          #輸入名字\n",
    "s = int(input(\"please input your scores\"))      #輸入分數\n",
    "\n",
    "scores.append(s)             #將分數append進list最後一個\n",
    "scores.sort()                #將list做sorting\n",
    "scores.reverse()             #將list反轉,得到由大到小的list\n",
    "rank = scores.index(s)       #rank得到分數排名第幾\n",
    "\n",
    "print(f\"your rank is #{rank+1} right now.\")  #將所輸入的分數顯示出來\n",
    "# ===== 插入並顯示 =====\n",
    "names.insert(rank,name) # 把名字塞到對的位置\n",
    "for n in names:\n",
    "    print(f'{n:>10s}')"
   ]
  },
  {
   "cell_type": "code",
   "execution_count": 54,
   "metadata": {},
   "outputs": [
    {
     "output_type": "stream",
     "name": "stdout",
     "text": [
      "dragon    100\nmeng      90\nHsuan Ju  59\nroy       23\nyihuang   10\n"
     ]
    }
   ],
   "source": [
    "#bonus1\n",
    "for i in range(0,5):\n",
    "    print(f\"{names[i]:<10s}{scores[i]}\") #只是比上個題目多印分數的步驟"
   ]
  },
  {
   "cell_type": "code",
   "execution_count": 73,
   "metadata": {},
   "outputs": [
    {
     "output_type": "stream",
     "name": "stdout",
     "text": [
      "dragon    100\nmeng      90\nHsuan Ju  59\nroy       23\nyihuang   10\n"
     ]
    }
   ],
   "source": [
    "#bonus2\n",
    "list1 = zip(names,scores) #將names list 和 scores list 兩陣列 zipe起來\n",
    "list1 = list(list1)         #大重點！！ 因為zipe()函數是迭代器，需要需list()函數轉回列表，可以得到由                         元組所組成的list             \n",
    "for k in list1:\n",
    "    print(f\"{k[0]:<10s}{k[1]}\")     #用標準輸出輸入print出k元組中的各個元素"
   ]
  },
  {
   "cell_type": "code",
   "execution_count": 83,
   "metadata": {},
   "outputs": [
    {
     "output_type": "execute_result",
     "data": {
      "text/plain": [
       "          0    1\n",
       "0    dragon  100\n",
       "1      meng   90\n",
       "2  Hsuan Ju   59\n",
       "3       roy   23\n",
       "4   yihuang   10"
      ],
      "text/html": "<div>\n<style scoped>\n    .dataframe tbody tr th:only-of-type {\n        vertical-align: middle;\n    }\n\n    .dataframe tbody tr th {\n        vertical-align: top;\n    }\n\n    .dataframe thead th {\n        text-align: right;\n    }\n</style>\n<table border=\"1\" class=\"dataframe\">\n  <thead>\n    <tr style=\"text-align: right;\">\n      <th></th>\n      <th>0</th>\n      <th>1</th>\n    </tr>\n  </thead>\n  <tbody>\n    <tr>\n      <th>0</th>\n      <td>dragon</td>\n      <td>100</td>\n    </tr>\n    <tr>\n      <th>1</th>\n      <td>meng</td>\n      <td>90</td>\n    </tr>\n    <tr>\n      <th>2</th>\n      <td>Hsuan Ju</td>\n      <td>59</td>\n    </tr>\n    <tr>\n      <th>3</th>\n      <td>roy</td>\n      <td>23</td>\n    </tr>\n    <tr>\n      <th>4</th>\n      <td>yihuang</td>\n      <td>10</td>\n    </tr>\n  </tbody>\n</table>\n</div>"
     },
     "metadata": {},
     "execution_count": 83
    }
   ],
   "source": [
    "#主委加碼辣，最近在玩DataFrame，來做做看ㄅ\n",
    "import pandas as pd\n",
    "li = pd.DataFrame(list1)\n",
    "li #讚讚ㄟ，成功了！！！夜夜！"
   ]
  },
  {
   "cell_type": "code",
   "execution_count": null,
   "metadata": {},
   "outputs": [],
   "source": []
  },
  {
   "cell_type": "code",
   "execution_count": null,
   "metadata": {},
   "outputs": [],
   "source": []
  }
 ]
}