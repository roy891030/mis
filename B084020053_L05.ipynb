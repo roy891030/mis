{
 "cells": [
  {
   "cell_type": "code",
   "execution_count": 4,
   "metadata": {},
   "outputs": [
    {
     "output_type": "error",
     "ename": "KeyError",
     "evalue": "'n3'",
     "traceback": [
      "\u001b[0;31m---------------------------------------------------------------------------\u001b[0m",
      "\u001b[0;31mKeyError\u001b[0m                                  Traceback (most recent call last)",
      "\u001b[0;32m<ipython-input-4-fd7aee54f665>\u001b[0m in \u001b[0;36m<module>\u001b[0;34m\u001b[0m\n\u001b[1;32m     36\u001b[0m         \u001b[0mdata\u001b[0m\u001b[0;34m[\u001b[0m\u001b[0mter\u001b[0m\u001b[0;34m]\u001b[0m \u001b[0;34m=\u001b[0m \u001b[0;36m0\u001b[0m\u001b[0;34m\u001b[0m\u001b[0;34m\u001b[0m\u001b[0m\n\u001b[1;32m     37\u001b[0m     \u001b[0;32melif\u001b[0m \u001b[0mop\u001b[0m \u001b[0;34m==\u001b[0m \u001b[0;34m'add'\u001b[0m\u001b[0;34m:\u001b[0m\u001b[0;34m\u001b[0m\u001b[0;34m\u001b[0m\u001b[0m\n\u001b[0;32m---> 38\u001b[0;31m         \u001b[0mprint\u001b[0m\u001b[0;34m(\u001b[0m\u001b[0;34mf\"{data[ter]} + {much}= {data[ter] + much}\"\u001b[0m\u001b[0;34m)\u001b[0m\u001b[0;34m\u001b[0m\u001b[0;34m\u001b[0m\u001b[0m\n\u001b[0m\u001b[1;32m     39\u001b[0m         \u001b[0mdata\u001b[0m\u001b[0;34m[\u001b[0m\u001b[0mter\u001b[0m\u001b[0;34m]\u001b[0m \u001b[0;34m+=\u001b[0m \u001b[0mmuch\u001b[0m\u001b[0;34m\u001b[0m\u001b[0;34m\u001b[0m\u001b[0m\n\u001b[1;32m     40\u001b[0m     \u001b[0;32melif\u001b[0m \u001b[0mop\u001b[0m \u001b[0;34m==\u001b[0m \u001b[0;34m'mul'\u001b[0m\u001b[0;34m:\u001b[0m\u001b[0;34m\u001b[0m\u001b[0;34m\u001b[0m\u001b[0m\n",
      "\u001b[0;31mKeyError\u001b[0m: 'n3'"
     ]
    }
   ],
   "source": [
    "# 除了助教給的幾種功能以外，我也另外加了min減法  div除法  roo開根號  bin轉成二進位制\n",
    "# 在operation階段打上min div roo bin即可使用\n",
    "# 使用roo 時只要輸入欲開根號的變數與roo即可，ex想對n1開根號之輸入方式：roo n1 \n",
    "# 使用bin時只須輸入欲做二進位制的變數與bin即可，ex想對n1做二進位轉換之輸入方式：bin n1 \n",
    "\n",
    "data = {\n",
    "    'n1': 0,\n",
    "    'n2': 10\n",
    "}\n",
    "\n",
    "\n",
    "while True:\n",
    "    inputs = input('Please input your operation:')\n",
    "    inputs = inputs.split(' ')\n",
    "\n",
    "    if len(inputs) == 1:\n",
    "        op = inputs[0]\n",
    "    elif len(inputs) == 2:\n",
    "        op = inputs[0]\n",
    "        ter = inputs[1]\n",
    "\n",
    "    elif len(inputs) == 3:  # add, mul\n",
    "        op = inputs[0]\n",
    "        ter = inputs[1]\n",
    "        much = int(inputs[2])\n",
    "\n",
    "\n",
    "# 以下為op的操作\n",
    "    if op == 'printall':\n",
    "        print(data)\n",
    "    elif op == 'delall':\n",
    "        data.clear()\n",
    "    elif op == 'del':\n",
    "        del data[ter]\n",
    "    elif op == 'new':\n",
    "        data[ter] = 0\n",
    "    elif op == 'add':\n",
    "        print(f\"{data[ter]} + {much}= {data[ter] + much}\")\n",
    "        data[ter] += much\n",
    "    elif op == 'mul':\n",
    "        print(f\"{data[ter]} * {much}= {data[ter] * much}\")\n",
    "        data[ter] *= much\n",
    "    elif op == 'min':\n",
    "        print(f\"{data[ter]} - {much}= {data[ter] - much}\")\n",
    "        data[ter] -= much\n",
    "    elif op == 'div':\n",
    "        print(f\"{data[ter]} / {much}= {data[ter] / much}\")\n",
    "        data[ter] /= much\n",
    "    elif op == 'roo':\n",
    "        print(f\"√￣{data[ter]} = {data[ter] ** (1/2)}\")\n",
    "        data[ter] ** (1/2)\n",
    "    elif op == 'bin':\n",
    "        print(f\"bin({data[ter]}) = {bin(data[ter])}\")\n",
    "        data[ter] = bin(data[ter])\n",
    "    elif op == 'end':\n",
    "        break\n"
   ]
  },
  {
   "cell_type": "code",
   "execution_count": null,
   "metadata": {},
   "outputs": [],
   "source": []
  }
 ],
 "metadata": {
  "kernelspec": {
   "display_name": "Python 3",
   "language": "python",
   "name": "python3"
  },
  "language_info": {
   "codemirror_mode": {
    "name": "ipython",
    "version": 3
   },
   "file_extension": ".py",
   "mimetype": "text/x-python",
   "name": "python",
   "nbconvert_exporter": "python",
   "pygments_lexer": "ipython3",
   "version": "3.8.5"
  }
 },
 "nbformat": 4,
 "nbformat_minor": 4
}