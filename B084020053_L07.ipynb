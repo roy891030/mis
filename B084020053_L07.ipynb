{
 "cells": [
  {
   "cell_type": "code",
   "execution_count": 61,
   "metadata": {},
   "outputs": [],
   "source": [
    "import pandas as pd\n",
    "from IPython.display import display\n",
    "\n",
    "\n",
    "class Stock:\n",
    "    total_assets = 0  # 總資產\n",
    "    stock_num = 0  # 股票總數\n",
    "\n",
    "    def __init__(self):\n",
    "        self.stock = []  # 股票名稱\n",
    "        self.buyprice = []  # 股票價格\n",
    "\n",
    "    def add_stock(self, stock_name, stock_price):  # 增加股票名稱與買入價格\n",
    "        if stock_name not in self.stock:  # 檢查之前是否曾經買入相同股票，若買過相同股票則把金額加入之前的list中\n",
    "            self.stock.append(stock_name)\n",
    "            self.buyprice.append(stock_price)\n",
    "            self.total_assets += stock_price\n",
    "            self.stock_num += 1\n",
    "        else:\n",
    "            p = self.stock.index(stock_name)\n",
    "            self.buyprice[p] += stock_price\n",
    "            self.total_assets += stock_price\n",
    "            self.stock_num += 1\n",
    "\n",
    "    def del_stock(self, stock_name):  # 刪除股票\n",
    "        p = self.stock.index(stock_name)\n",
    "        self.total_assets -= self.buyprice[p]\n",
    "        del self.stock[p]\n",
    "        del self.buyprice[p]\n",
    "        self.stock_num -= 1\n",
    "\n",
    "    def show(self):  # 以DataFrame形式顯示\n",
    "        stock = pd.DataFrame()\n",
    "        price = pd.DataFrame()\n",
    "        stock[\"stock\"] = self.stock\n",
    "        price[\"price\"] = self.buyprice\n",
    "        df = pd.concat([stock, price], axis=1)\n",
    "        display(df)\n",
    "        print(\"---------------------------\")\n",
    "        print(f\"Your total assets is {self.total_assets}\")\n",
    "        print(\"---------------------------\")\n",
    "\n",
    "    def __add__(self, other):  # 讓兩股票倉位可以互相加總\n",
    "        self.stock += other.stock\n",
    "        self.buyprice += other.buyprice\n",
    "        self.total_assets += other.total_assets\n",
    "        self.stock_num += other.stock_num\n",
    "        return self\n",
    "\n",
    "    def __repr__(self):  # 印出結果\n",
    "        output = f\"you have {len(self.stock)} stocks,and total assets is {self.total_assets}\"\n",
    "        return output"
   ]
  },
  {
   "cell_type": "code",
   "execution_count": 62,
   "metadata": {},
   "outputs": [
    {
     "data": {
      "text/html": [
       "<div>\n",
       "<style scoped>\n",
       "    .dataframe tbody tr th:only-of-type {\n",
       "        vertical-align: middle;\n",
       "    }\n",
       "\n",
       "    .dataframe tbody tr th {\n",
       "        vertical-align: top;\n",
       "    }\n",
       "\n",
       "    .dataframe thead th {\n",
       "        text-align: right;\n",
       "    }\n",
       "</style>\n",
       "<table border=\"1\" class=\"dataframe\">\n",
       "  <thead>\n",
       "    <tr style=\"text-align: right;\">\n",
       "      <th></th>\n",
       "      <th>stock</th>\n",
       "      <th>price</th>\n",
       "    </tr>\n",
       "  </thead>\n",
       "  <tbody>\n",
       "    <tr>\n",
       "      <th>0</th>\n",
       "      <td>台積電</td>\n",
       "      <td>200</td>\n",
       "    </tr>\n",
       "    <tr>\n",
       "      <th>1</th>\n",
       "      <td>長榮</td>\n",
       "      <td>300</td>\n",
       "    </tr>\n",
       "    <tr>\n",
       "      <th>2</th>\n",
       "      <td>台泥</td>\n",
       "      <td>500</td>\n",
       "    </tr>\n",
       "  </tbody>\n",
       "</table>\n",
       "</div>"
      ],
      "text/plain": [
       "  stock  price\n",
       "0   台積電    200\n",
       "1    長榮    300\n",
       "2    台泥    500"
      ]
     },
     "metadata": {},
     "output_type": "display_data"
    },
    {
     "name": "stdout",
     "output_type": "stream",
     "text": [
      "---------------------------\n",
      "Your total assets is 1000\n",
      "---------------------------\n"
     ]
    }
   ],
   "source": [
    "st = Stock() #做出第一個倉位st \n",
    "st.add_stock(\"台積電\", 200)\n",
    "st.add_stock(\"長榮\", 300)\n",
    "st.add_stock(\"台泥\", 500)\n",
    "st.show()"
   ]
  },
  {
   "cell_type": "code",
   "execution_count": 63,
   "metadata": {},
   "outputs": [
    {
     "data": {
      "text/html": [
       "<div>\n",
       "<style scoped>\n",
       "    .dataframe tbody tr th:only-of-type {\n",
       "        vertical-align: middle;\n",
       "    }\n",
       "\n",
       "    .dataframe tbody tr th {\n",
       "        vertical-align: top;\n",
       "    }\n",
       "\n",
       "    .dataframe thead th {\n",
       "        text-align: right;\n",
       "    }\n",
       "</style>\n",
       "<table border=\"1\" class=\"dataframe\">\n",
       "  <thead>\n",
       "    <tr style=\"text-align: right;\">\n",
       "      <th></th>\n",
       "      <th>stock</th>\n",
       "      <th>price</th>\n",
       "    </tr>\n",
       "  </thead>\n",
       "  <tbody>\n",
       "    <tr>\n",
       "      <th>0</th>\n",
       "      <td>台積電</td>\n",
       "      <td>400</td>\n",
       "    </tr>\n",
       "    <tr>\n",
       "      <th>1</th>\n",
       "      <td>長榮</td>\n",
       "      <td>300</td>\n",
       "    </tr>\n",
       "    <tr>\n",
       "      <th>2</th>\n",
       "      <td>台泥</td>\n",
       "      <td>500</td>\n",
       "    </tr>\n",
       "  </tbody>\n",
       "</table>\n",
       "</div>"
      ],
      "text/plain": [
       "  stock  price\n",
       "0   台積電    400\n",
       "1    長榮    300\n",
       "2    台泥    500"
      ]
     },
     "metadata": {},
     "output_type": "display_data"
    },
    {
     "name": "stdout",
     "output_type": "stream",
     "text": [
      "---------------------------\n",
      "Your total assets is 1200\n",
      "---------------------------\n"
     ]
    }
   ],
   "source": [
    "st.add_stock(\"台積電\", 200) #TSMC再買200\n",
    "st.show()"
   ]
  },
  {
   "cell_type": "code",
   "execution_count": 64,
   "metadata": {},
   "outputs": [
    {
     "data": {
      "text/html": [
       "<div>\n",
       "<style scoped>\n",
       "    .dataframe tbody tr th:only-of-type {\n",
       "        vertical-align: middle;\n",
       "    }\n",
       "\n",
       "    .dataframe tbody tr th {\n",
       "        vertical-align: top;\n",
       "    }\n",
       "\n",
       "    .dataframe thead th {\n",
       "        text-align: right;\n",
       "    }\n",
       "</style>\n",
       "<table border=\"1\" class=\"dataframe\">\n",
       "  <thead>\n",
       "    <tr style=\"text-align: right;\">\n",
       "      <th></th>\n",
       "      <th>stock</th>\n",
       "      <th>price</th>\n",
       "    </tr>\n",
       "  </thead>\n",
       "  <tbody>\n",
       "    <tr>\n",
       "      <th>0</th>\n",
       "      <td>長榮</td>\n",
       "      <td>300</td>\n",
       "    </tr>\n",
       "    <tr>\n",
       "      <th>1</th>\n",
       "      <td>台泥</td>\n",
       "      <td>500</td>\n",
       "    </tr>\n",
       "  </tbody>\n",
       "</table>\n",
       "</div>"
      ],
      "text/plain": [
       "  stock  price\n",
       "0    長榮    300\n",
       "1    台泥    500"
      ]
     },
     "metadata": {},
     "output_type": "display_data"
    },
    {
     "name": "stdout",
     "output_type": "stream",
     "text": [
      "---------------------------\n",
      "Your total assets is 800\n",
      "---------------------------\n"
     ]
    }
   ],
   "source": [
    "st.del_stock(\"台積電\") #清空台積電\n",
    "st.show()"
   ]
  },
  {
   "cell_type": "code",
   "execution_count": 65,
   "metadata": {},
   "outputs": [
    {
     "data": {
      "text/html": [
       "<div>\n",
       "<style scoped>\n",
       "    .dataframe tbody tr th:only-of-type {\n",
       "        vertical-align: middle;\n",
       "    }\n",
       "\n",
       "    .dataframe tbody tr th {\n",
       "        vertical-align: top;\n",
       "    }\n",
       "\n",
       "    .dataframe thead th {\n",
       "        text-align: right;\n",
       "    }\n",
       "</style>\n",
       "<table border=\"1\" class=\"dataframe\">\n",
       "  <thead>\n",
       "    <tr style=\"text-align: right;\">\n",
       "      <th></th>\n",
       "      <th>stock</th>\n",
       "      <th>price</th>\n",
       "    </tr>\n",
       "  </thead>\n",
       "  <tbody>\n",
       "    <tr>\n",
       "      <th>0</th>\n",
       "      <td>台積電</td>\n",
       "      <td>200</td>\n",
       "    </tr>\n",
       "    <tr>\n",
       "      <th>1</th>\n",
       "      <td>AMZN</td>\n",
       "      <td>400</td>\n",
       "    </tr>\n",
       "  </tbody>\n",
       "</table>\n",
       "</div>"
      ],
      "text/plain": [
       "  stock  price\n",
       "0   台積電    200\n",
       "1  AMZN    400"
      ]
     },
     "metadata": {},
     "output_type": "display_data"
    },
    {
     "name": "stdout",
     "output_type": "stream",
     "text": [
      "---------------------------\n",
      "Your total assets is 600\n",
      "---------------------------\n"
     ]
    }
   ],
   "source": [
    "st1 = Stock() #另外開戶，另外投資\n",
    "st1.add_stock(\"台積電\", 200)\n",
    "st1.add_stock(\"AMZN\", 400)\n",
    "st1.show()"
   ]
  },
  {
   "cell_type": "code",
   "execution_count": 66,
   "metadata": {},
   "outputs": [
    {
     "data": {
      "text/html": [
       "<div>\n",
       "<style scoped>\n",
       "    .dataframe tbody tr th:only-of-type {\n",
       "        vertical-align: middle;\n",
       "    }\n",
       "\n",
       "    .dataframe tbody tr th {\n",
       "        vertical-align: top;\n",
       "    }\n",
       "\n",
       "    .dataframe thead th {\n",
       "        text-align: right;\n",
       "    }\n",
       "</style>\n",
       "<table border=\"1\" class=\"dataframe\">\n",
       "  <thead>\n",
       "    <tr style=\"text-align: right;\">\n",
       "      <th></th>\n",
       "      <th>stock</th>\n",
       "      <th>price</th>\n",
       "    </tr>\n",
       "  </thead>\n",
       "  <tbody>\n",
       "    <tr>\n",
       "      <th>0</th>\n",
       "      <td>長榮</td>\n",
       "      <td>300</td>\n",
       "    </tr>\n",
       "    <tr>\n",
       "      <th>1</th>\n",
       "      <td>台泥</td>\n",
       "      <td>500</td>\n",
       "    </tr>\n",
       "    <tr>\n",
       "      <th>2</th>\n",
       "      <td>台積電</td>\n",
       "      <td>200</td>\n",
       "    </tr>\n",
       "    <tr>\n",
       "      <th>3</th>\n",
       "      <td>AMZN</td>\n",
       "      <td>400</td>\n",
       "    </tr>\n",
       "  </tbody>\n",
       "</table>\n",
       "</div>"
      ],
      "text/plain": [
       "  stock  price\n",
       "0    長榮    300\n",
       "1    台泥    500\n",
       "2   台積電    200\n",
       "3  AMZN    400"
      ]
     },
     "metadata": {},
     "output_type": "display_data"
    },
    {
     "name": "stdout",
     "output_type": "stream",
     "text": [
      "---------------------------\n",
      "Your total assets is 1400\n",
      "---------------------------\n"
     ]
    }
   ],
   "source": [
    "st+=st1 #將兩個戶頭加起來\n",
    "st.show()"
   ]
  },
  {
   "cell_type": "code",
   "execution_count": 67,
   "metadata": {},
   "outputs": [
    {
     "name": "stdout",
     "output_type": "stream",
     "text": [
      "you have 4 stocks,and total assets is 1400\n"
     ]
    }
   ],
   "source": [
    "print(st) #將投資股票數量與投資資產印出"
   ]
  }
 ],
 "metadata": {
  "kernelspec": {
   "display_name": "Python 3",
   "language": "python",
   "name": "python3"
  },
  "language_info": {
   "codemirror_mode": {
    "name": "ipython",
    "version": 3
   },
   "file_extension": ".py",
   "mimetype": "text/x-python",
   "name": "python",
   "nbconvert_exporter": "python",
   "pygments_lexer": "ipython3",
   "version": "3.6.8"
  }
 },
 "nbformat": 4,
 "nbformat_minor": 4
}
